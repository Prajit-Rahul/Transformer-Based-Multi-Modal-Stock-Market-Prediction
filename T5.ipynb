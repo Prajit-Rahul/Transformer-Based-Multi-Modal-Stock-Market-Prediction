{
  "nbformat": 4,
  "nbformat_minor": 0,
  "metadata": {
    "colab": {
      "provenance": []
    },
    "kernelspec": {
      "name": "python3",
      "display_name": "Python 3"
    },
    "language_info": {
      "name": "python"
    }
  },
  "cells": [
    {
      "cell_type": "code",
      "execution_count": null,
      "metadata": {
        "id": "2d1SNkrgqbOa",
        "colab": {
          "base_uri": "https://localhost:8080/"
        },
        "outputId": "f455dab6-c04d-4569-c588-54bbb241c13d"
      },
      "outputs": [
        {
          "output_type": "stream",
          "name": "stdout",
          "text": [
            "Using device: cpu\n"
          ]
        },
        {
          "output_type": "stream",
          "name": "stderr",
          "text": [
            "/usr/local/lib/python3.10/dist-packages/huggingface_hub/utils/_token.py:89: UserWarning: \n",
            "The secret `HF_TOKEN` does not exist in your Colab secrets.\n",
            "To authenticate with the Hugging Face Hub, create a token in your settings tab (https://huggingface.co/settings/tokens), set it as secret in your Google Colab and restart your session.\n",
            "You will be able to reuse this secret in all of your notebooks.\n",
            "Please note that authentication is recommended but still optional to access public models or datasets.\n",
            "  warnings.warn(\n",
            "You are using the default legacy behaviour of the <class 'transformers.models.t5.tokenization_t5.T5Tokenizer'>. This is expected, and simply means that the `legacy` (previous) behavior will be used so nothing changes for you. If you want to use the new behaviour, set `legacy=False`. This should only be set if you understand what it means, and thoroughly read the reason why this was added as explained in https://github.com/huggingface/transformers/pull/24565\n",
            "/usr/local/lib/python3.10/dist-packages/transformers/optimization.py:591: FutureWarning: This implementation of AdamW is deprecated and will be removed in a future version. Use the PyTorch implementation torch.optim.AdamW instead, or set `no_deprecation_warning=True` to disable this warning\n",
            "  warnings.warn(\n",
            "  0%|          | 0/73 [00:00<?, ?it/s]"
          ]
        }
      ],
      "source": [
        "import yfinance as yf\n",
        "import pandas as pd\n",
        "import torch\n",
        "from sklearn.preprocessing import MinMaxScaler\n",
        "from torch.utils.data import Dataset, DataLoader\n",
        "from transformers import T5Tokenizer, T5ForConditionalGeneration, AdamW\n",
        "from tqdm import tqdm\n",
        "import matplotlib.pyplot as plt\n",
        "\n",
        "# Check if CUDA is available and set the device\n",
        "device = torch.device(\"cuda\" if torch.cuda.is_available() else \"cpu\")\n",
        "print(f\"Using device: {device}\")\n",
        "\n",
        "# Collect Apple stock price data\n",
        "apple = yf.Ticker(\"AAPL\")\n",
        "data = apple.history(period=\"5y\")\n",
        "data = data[['Close']].reset_index()\n",
        "\n",
        "# Preprocess the data\n",
        "scaler = MinMaxScaler()\n",
        "data['Close_scaled'] = scaler.fit_transform(data[['Close']])\n",
        "\n",
        "# Define a custom dataset for time series forecasting\n",
        "class StockPriceDataset(Dataset):\n",
        "    def __init__(self, data, input_length, output_length):\n",
        "        self.data = data\n",
        "        self.input_length = input_length\n",
        "        self.output_length = output_length\n",
        "\n",
        "    def __len__(self):\n",
        "        return len(self.data) - self.input_length - self.output_length\n",
        "\n",
        "    def __getitem__(self, idx):\n",
        "        input_sequence = self.data[idx: idx + self.input_length]\n",
        "        target_sequence = self.data[idx + self.input_length: idx + self.input_length + self.output_length]\n",
        "        return {\n",
        "            \"input_text\": \" \".join(map(str, input_sequence)),\n",
        "            \"target_text\": \" \".join(map(str, target_sequence)),\n",
        "        }\n",
        "\n",
        "# Set the input and output sequence length for prediction\n",
        "input_length = 60\n",
        "output_length = 30\n",
        "\n",
        "# Prepare dataset and DataLoader\n",
        "dataset = StockPriceDataset(data['Close_scaled'].values, input_length, output_length)\n",
        "dataloader = DataLoader(dataset, batch_size=16, shuffle=True)\n",
        "\n",
        "# Load a pre-trained T5 tokenizer and model\n",
        "tokenizer = T5Tokenizer.from_pretrained(\"t5-small\")\n",
        "model = T5ForConditionalGeneration.from_pretrained(\"t5-small\")\n",
        "\n",
        "# Move model to the GPU if available\n",
        "model = model.to(device)\n",
        "\n",
        "# Fine-tuning setup\n",
        "optimizer = AdamW(model.parameters(), lr=5e-5)\n",
        "\n",
        "# Fine-tune the model with GPU support\n",
        "model.train()\n",
        "for epoch in range(5):  # Adjust the number of epochs as needed\n",
        "    epoch_loss = 0\n",
        "    for batch in tqdm(dataloader):\n",
        "        input_sequences = batch['input_text']\n",
        "        target_sequences = batch['target_text']\n",
        "\n",
        "        # Tokenize input and target sequences\n",
        "        input_ids = tokenizer(input_sequences, return_tensors=\"pt\", padding=True, truncation=True).input_ids\n",
        "        labels = tokenizer(target_sequences, return_tensors=\"pt\", padding=True, truncation=True).input_ids\n",
        "\n",
        "        # Move input data to GPU\n",
        "        input_ids = input_ids.to(device)\n",
        "        labels = labels.to(device)\n",
        "\n",
        "        # Forward pass\n",
        "        outputs = model(input_ids=input_ids, labels=labels)\n",
        "        loss = outputs.loss\n",
        "\n",
        "        # Backward pass and optimization step\n",
        "        optimizer.zero_grad()\n",
        "        loss.backward()\n",
        "        optimizer.step()\n",
        "\n",
        "        epoch_loss += loss.item()\n",
        "\n",
        "    print(f\"Epoch {epoch + 1} completed. Loss: {epoch_loss / len(dataloader)}\")\n",
        "\n",
        "# Save the fine-tuned model\n",
        "model.save_pretrained(\"./fine_tuned_t5_stock_model\")\n",
        "\n",
        "# Predict on a test sample\n",
        "model.eval()\n",
        "test_sequence = data['Close_scaled'].values[-input_length:].reshape(1, -1)  # Last input_length data points\n",
        "test_input = \" \".join(map(str, test_sequence[0]))\n",
        "input_ids = tokenizer(test_input, return_tensors=\"pt\").input_ids.to(device)  # Move input to GPU\n",
        "\n",
        "# Generate predictions\n",
        "with torch.no_grad():\n",
        "    outputs = model.generate(input_ids, max_length=output_length)\n",
        "\n",
        "predicted_sequence = tokenizer.decode(outputs[0], skip_special_tokens=True)\n",
        "predicted_sequence = list(map(float, predicted_sequence.split()))\n",
        "\n",
        "# Inverse scale the predicted values\n",
        "predicted_sequence = scaler.inverse_transform(np.array(predicted_sequence).reshape(-1, 1))\n",
        "\n",
        "# Plot the predicted and actual values\n",
        "plt.figure(figsize=(10, 6))\n",
        "plt.plot(data['Close'].values[-output_length:], label=\"Actual Prices\")\n",
        "plt.plot(predicted_sequence, label=\"Predicted Prices\")\n",
        "plt.title(\"Apple Stock Price Prediction\")\n",
        "plt.legend()\n",
        "plt.show()\n"
      ]
    },
    {
      "cell_type": "code",
      "source": [],
      "metadata": {
        "id": "j2oFLExAfMan"
      },
      "execution_count": null,
      "outputs": []
    }
  ]
}
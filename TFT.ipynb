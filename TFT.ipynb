{
 "cells": [
  {
   "cell_type": "code",
   "execution_count": 1,
   "id": "1492e209-85e3-49ac-97f8-18b365e5659c",
   "metadata": {},
   "outputs": [],
   "source": [
    "import numpy as np  # linear algebra\n",
    "import pandas as pd  # data processing, CSV file I/O (e.g. pd.read_csv)\n",
    "import yfinance as yf  # for fetching stock data\n",
    "import matplotlib.pyplot as plt\n",
    "import lightning.pytorch as pl\n",
    "from lightning.pytorch.callbacks import EarlyStopping, LearningRateMonitor\n",
    "from lightning.pytorch.loggers import TensorBoardLogger\n",
    "from pytorch_forecasting import TemporalFusionTransformer, TimeSeriesDataSet\n",
    "from pytorch_forecasting.data import GroupNormalizer\n",
    "from pytorch_forecasting.metrics import QuantileLoss, MAE"
   ]
  },
  {
   "cell_type": "code",
   "execution_count": null,
   "id": "10055fea-84a8-4561-a695-a0b97faa38de",
   "metadata": {},
   "outputs": [],
   "source": [
    "# Code for getting tickers of the Top 200 companies by market cap\n",
    "# Load the S&P 500 company tickers from Wikipedia\n",
    "# url = 'https://en.wikipedia.org/wiki/List_of_S%26P_500_companies'\n",
    "# sp500_table = pd.read_html(url)\n",
    "# sp500_df = sp500_table[0]  # The first table on the page is usually the one we want\n",
    "# tickers = sp500_df['Symbol'].tolist()  # Get the list of tickers\n",
    "\n",
    "# # Function to get the market cap for each ticker\n",
    "# def get_market_cap(ticker):\n",
    "#     try:\n",
    "#         stock = yf.Ticker(ticker)\n",
    "#         market_cap = stock.info.get('marketCap')\n",
    "#         return market_cap\n",
    "#     except Exception as e:\n",
    "#         print(f\"Error fetching data for {ticker}: {e}\")\n",
    "#         return None\n",
    "\n",
    "# # Create a list to store the tickers and their market caps\n",
    "# ticker_data = []\n",
    "\n",
    "# for ticker in tickers:\n",
    "#     market_cap = get_market_cap(ticker)\n",
    "#     if market_cap is not None:\n",
    "#         ticker_data.append({'Ticker': ticker, 'MarketCap': market_cap})\n",
    "\n",
    "# # Create a DataFrame and sort by market cap\n",
    "# ticker_df = pd.DataFrame(ticker_data)\n",
    "# ticker_df = ticker_df.sort_values(by='MarketCap', ascending=False)\n",
    "\n",
    "# # Select the top 200 companies by market cap\n",
    "# top_200 = ticker_df.head(200)\n",
    "# print(top_200['Ticker'].tolist())  # Print the list of top 200 tickers\n"
   ]
  },
  {
   "cell_type": "code",
   "execution_count": 2,
   "id": "87963edb-5219-4652-a7d8-50002f1aa79a",
   "metadata": {},
   "outputs": [],
   "source": [
    "def convert_data_type(df, time_cols=[], float_cols=[], cat_cols=[]):\n",
    "    for col in time_cols:\n",
    "        df[col] = pd.to_datetime(df[col], format='%Y-%m-%d')\n",
    "    for col in float_cols:\n",
    "        df[col] = df[col].astype(float)\n",
    "    for col in cat_cols:\n",
    "        df[col] = df[col].astype('category')\n",
    "    return df\n",
    "\n",
    "# Define the stock tickers and the date range\n",
    "tickers = ['AAPL', 'NVDA', 'MSFT', 'GOOG', 'GOOGL', 'AMZN', 'META', 'TSLA', 'AVGO', 'LLY', 'WMT', 'JPM', 'V', 'UNH', 'XOM', 'ORCL', 'MA', 'HD', 'PG', 'COST', 'JNJ', 'ABBV', 'NFLX', 'BAC', 'CRM', 'KO', 'CVX', 'TMUS', 'MRK', 'AMD', 'PEP', 'CSCO', 'LIN', 'ACN', 'WFC', 'TMO', 'ADBE', 'MCD', 'ABT', 'BX', 'PM', 'NOW', 'IBM', 'AXP', 'MS', 'TXN', 'GE', 'QCOM', 'CAT', 'ISRG', 'DHR', 'INTU', 'VZ', 'DIS', 'AMGN', 'CMCSA', 'GS', 'PFE', 'NEE', 'T', 'RTX', 'BKNG', 'UBER', 'AMAT', 'SPGI', 'LOW', 'BLK', 'PGR', 'UNP', 'SYK', 'HON', 'ETN', 'SCHW', 'LMT', 'KKR', 'TJX', 'COP', 'ANET', 'BSX', 'VRTX', 'C', 'PANW', 'ADP', 'NKE', 'BA', 'MDT', 'FI', 'UPS', 'SBUX', 'ADI', 'CB', 'GILD', 'MU', 'BMY', 'DE', 'MMC', 'PLD', 'INTC', 'AMT', 'SO', 'LRCX', 'ELV', 'PLTR', 'REGN', 'DELL', 'MDLZ', 'MO', 'HCA', 'SHW', 'KLAC', 'ICE', 'CI', 'DUK', 'ABNB', 'WM', 'EQIX', 'TT', 'GEV', 'WELL', 'CTAS', 'MCO', 'ZTS', 'APH', 'PH', 'CEG', 'GD', 'CME', 'CMG', 'SNPS', 'AON', 'ITW', 'PYPL', 'CDNS', 'CL', 'MSI', 'USB', 'CRWD', 'PNC', 'NOC', 'MAR', 'TDG', 'CVS', 'TGT', 'MMM', 'ECL', 'APD', 'EOG', 'MCK', 'BDX', 'FDX', 'ORLY', 'FCX', 'CARR', 'CSX', 'SPG', 'WMB', 'COF', 'RSG', 'EMR', 'ADSK', 'AJG', 'NXPI', 'FTNT', 'DLR', 'AFL', 'ROP', 'HLT', 'TFC', 'PSA', 'NSC', 'SLB', 'GM', 'TRV', 'BK', 'OKE', 'MET', 'RCL', 'DHI', 'PCAR', 'GWW', 'KMI', 'PCG', 'CHTR', 'URI', 'AEP', 'SRE', 'NEM', 'FANG', 'O', 'MNST', 'JCI', 'AZO', 'PAYX', 'CPRT', 'PSX', 'D', 'AMP', 'FICO', 'ALL', 'AIG']\n",
    "start_date = \"2018-06-01\"\n",
    "end_date = \"2024-06-30\""
   ]
  },
  {
   "cell_type": "code",
   "execution_count": 3,
   "id": "843852ca-facc-47a8-ab13-a7fdf1756f5e",
   "metadata": {},
   "outputs": [
    {
     "name": "stderr",
     "output_type": "stream",
     "text": [
      "[*********************100%***********************]  200 of 200 completed\n"
     ]
    }
   ],
   "source": [
    "# Download historical data from yfinance\n",
    "df = yf.download(tickers, start=start_date, end=end_date, group_by='ticker')"
   ]
  },
  {
   "cell_type": "code",
   "execution_count": 7,
   "id": "ebf0e367-a32a-4f1e-a964-0d333f8f8b16",
   "metadata": {},
   "outputs": [
    {
     "data": {
      "text/html": [
       "<div>\n",
       "<style scoped>\n",
       "    .dataframe tbody tr th:only-of-type {\n",
       "        vertical-align: middle;\n",
       "    }\n",
       "\n",
       "    .dataframe tbody tr th {\n",
       "        vertical-align: top;\n",
       "    }\n",
       "\n",
       "    .dataframe thead tr th {\n",
       "        text-align: left;\n",
       "    }\n",
       "\n",
       "    .dataframe thead tr:last-of-type th {\n",
       "        text-align: right;\n",
       "    }\n",
       "</style>\n",
       "<table border=\"1\" class=\"dataframe\">\n",
       "  <thead>\n",
       "    <tr>\n",
       "      <th>Ticker</th>\n",
       "      <th colspan=\"6\" halign=\"left\">AIG</th>\n",
       "      <th colspan=\"4\" halign=\"left\">KLAC</th>\n",
       "      <th>...</th>\n",
       "      <th colspan=\"4\" halign=\"left\">BKNG</th>\n",
       "      <th colspan=\"6\" halign=\"left\">TXN</th>\n",
       "    </tr>\n",
       "    <tr>\n",
       "      <th>Price</th>\n",
       "      <th>Open</th>\n",
       "      <th>High</th>\n",
       "      <th>Low</th>\n",
       "      <th>Close</th>\n",
       "      <th>Adj Close</th>\n",
       "      <th>Volume</th>\n",
       "      <th>Open</th>\n",
       "      <th>High</th>\n",
       "      <th>Low</th>\n",
       "      <th>Close</th>\n",
       "      <th>...</th>\n",
       "      <th>Low</th>\n",
       "      <th>Close</th>\n",
       "      <th>Adj Close</th>\n",
       "      <th>Volume</th>\n",
       "      <th>Open</th>\n",
       "      <th>High</th>\n",
       "      <th>Low</th>\n",
       "      <th>Close</th>\n",
       "      <th>Adj Close</th>\n",
       "      <th>Volume</th>\n",
       "    </tr>\n",
       "    <tr>\n",
       "      <th>Date</th>\n",
       "      <th></th>\n",
       "      <th></th>\n",
       "      <th></th>\n",
       "      <th></th>\n",
       "      <th></th>\n",
       "      <th></th>\n",
       "      <th></th>\n",
       "      <th></th>\n",
       "      <th></th>\n",
       "      <th></th>\n",
       "      <th></th>\n",
       "      <th></th>\n",
       "      <th></th>\n",
       "      <th></th>\n",
       "      <th></th>\n",
       "      <th></th>\n",
       "      <th></th>\n",
       "      <th></th>\n",
       "      <th></th>\n",
       "      <th></th>\n",
       "      <th></th>\n",
       "    </tr>\n",
       "  </thead>\n",
       "  <tbody>\n",
       "    <tr>\n",
       "      <th>2018-06-01 00:00:00+00:00</th>\n",
       "      <td>53.410000</td>\n",
       "      <td>53.630001</td>\n",
       "      <td>53.130001</td>\n",
       "      <td>53.290001</td>\n",
       "      <td>44.729973</td>\n",
       "      <td>4449000</td>\n",
       "      <td>114.510002</td>\n",
       "      <td>116.419998</td>\n",
       "      <td>113.849998</td>\n",
       "      <td>115.839996</td>\n",
       "      <td>...</td>\n",
       "      <td>2118.050049</td>\n",
       "      <td>2128.939941</td>\n",
       "      <td>2113.727295</td>\n",
       "      <td>301500</td>\n",
       "      <td>112.550003</td>\n",
       "      <td>114.800003</td>\n",
       "      <td>112.320000</td>\n",
       "      <td>114.800003</td>\n",
       "      <td>95.804886</td>\n",
       "      <td>4728400</td>\n",
       "    </tr>\n",
       "    <tr>\n",
       "      <th>2018-06-04 00:00:00+00:00</th>\n",
       "      <td>53.610001</td>\n",
       "      <td>54.169998</td>\n",
       "      <td>53.480000</td>\n",
       "      <td>53.779999</td>\n",
       "      <td>45.141266</td>\n",
       "      <td>3634900</td>\n",
       "      <td>115.279999</td>\n",
       "      <td>117.120003</td>\n",
       "      <td>115.169998</td>\n",
       "      <td>116.239998</td>\n",
       "      <td>...</td>\n",
       "      <td>2125.260010</td>\n",
       "      <td>2125.800049</td>\n",
       "      <td>2110.609863</td>\n",
       "      <td>284700</td>\n",
       "      <td>114.739998</td>\n",
       "      <td>116.379997</td>\n",
       "      <td>114.309998</td>\n",
       "      <td>115.739998</td>\n",
       "      <td>96.589325</td>\n",
       "      <td>3905700</td>\n",
       "    </tr>\n",
       "    <tr>\n",
       "      <th>2018-06-05 00:00:00+00:00</th>\n",
       "      <td>53.630001</td>\n",
       "      <td>53.939999</td>\n",
       "      <td>53.340000</td>\n",
       "      <td>53.840000</td>\n",
       "      <td>45.191616</td>\n",
       "      <td>3947300</td>\n",
       "      <td>117.040001</td>\n",
       "      <td>118.190002</td>\n",
       "      <td>116.570000</td>\n",
       "      <td>118.129997</td>\n",
       "      <td>...</td>\n",
       "      <td>2126.000000</td>\n",
       "      <td>2140.989990</td>\n",
       "      <td>2125.691406</td>\n",
       "      <td>339900</td>\n",
       "      <td>116.690002</td>\n",
       "      <td>117.930000</td>\n",
       "      <td>115.830002</td>\n",
       "      <td>117.660004</td>\n",
       "      <td>98.191650</td>\n",
       "      <td>5366600</td>\n",
       "    </tr>\n",
       "    <tr>\n",
       "      <th>2018-06-06 00:00:00+00:00</th>\n",
       "      <td>53.930000</td>\n",
       "      <td>54.130001</td>\n",
       "      <td>53.250000</td>\n",
       "      <td>53.939999</td>\n",
       "      <td>45.275555</td>\n",
       "      <td>5892500</td>\n",
       "      <td>118.139999</td>\n",
       "      <td>118.559998</td>\n",
       "      <td>116.900002</td>\n",
       "      <td>117.430000</td>\n",
       "      <td>...</td>\n",
       "      <td>2129.030029</td>\n",
       "      <td>2153.780029</td>\n",
       "      <td>2138.389893</td>\n",
       "      <td>297700</td>\n",
       "      <td>117.570000</td>\n",
       "      <td>118.120003</td>\n",
       "      <td>116.910004</td>\n",
       "      <td>118.110001</td>\n",
       "      <td>98.567200</td>\n",
       "      <td>4015400</td>\n",
       "    </tr>\n",
       "    <tr>\n",
       "      <th>2018-06-07 00:00:00+00:00</th>\n",
       "      <td>54.000000</td>\n",
       "      <td>54.000000</td>\n",
       "      <td>53.419998</td>\n",
       "      <td>53.869999</td>\n",
       "      <td>45.216805</td>\n",
       "      <td>5306500</td>\n",
       "      <td>115.449997</td>\n",
       "      <td>116.570000</td>\n",
       "      <td>114.449997</td>\n",
       "      <td>115.930000</td>\n",
       "      <td>...</td>\n",
       "      <td>2121.919922</td>\n",
       "      <td>2131.979980</td>\n",
       "      <td>2116.745361</td>\n",
       "      <td>293800</td>\n",
       "      <td>118.349998</td>\n",
       "      <td>118.480003</td>\n",
       "      <td>116.139999</td>\n",
       "      <td>117.239998</td>\n",
       "      <td>97.841133</td>\n",
       "      <td>6985100</td>\n",
       "    </tr>\n",
       "  </tbody>\n",
       "</table>\n",
       "<p>5 rows × 1200 columns</p>\n",
       "</div>"
      ],
      "text/plain": [
       "Ticker                           AIG                                   \\\n",
       "Price                           Open       High        Low      Close   \n",
       "Date                                                                    \n",
       "2018-06-01 00:00:00+00:00  53.410000  53.630001  53.130001  53.290001   \n",
       "2018-06-04 00:00:00+00:00  53.610001  54.169998  53.480000  53.779999   \n",
       "2018-06-05 00:00:00+00:00  53.630001  53.939999  53.340000  53.840000   \n",
       "2018-06-06 00:00:00+00:00  53.930000  54.130001  53.250000  53.939999   \n",
       "2018-06-07 00:00:00+00:00  54.000000  54.000000  53.419998  53.869999   \n",
       "\n",
       "Ticker                                               KLAC              \\\n",
       "Price                      Adj Close   Volume        Open        High   \n",
       "Date                                                                    \n",
       "2018-06-01 00:00:00+00:00  44.729973  4449000  114.510002  116.419998   \n",
       "2018-06-04 00:00:00+00:00  45.141266  3634900  115.279999  117.120003   \n",
       "2018-06-05 00:00:00+00:00  45.191616  3947300  117.040001  118.190002   \n",
       "2018-06-06 00:00:00+00:00  45.275555  5892500  118.139999  118.559998   \n",
       "2018-06-07 00:00:00+00:00  45.216805  5306500  115.449997  116.570000   \n",
       "\n",
       "Ticker                                             ...         BKNG  \\\n",
       "Price                             Low       Close  ...          Low   \n",
       "Date                                               ...                \n",
       "2018-06-01 00:00:00+00:00  113.849998  115.839996  ...  2118.050049   \n",
       "2018-06-04 00:00:00+00:00  115.169998  116.239998  ...  2125.260010   \n",
       "2018-06-05 00:00:00+00:00  116.570000  118.129997  ...  2126.000000   \n",
       "2018-06-06 00:00:00+00:00  116.900002  117.430000  ...  2129.030029   \n",
       "2018-06-07 00:00:00+00:00  114.449997  115.930000  ...  2121.919922   \n",
       "\n",
       "Ticker                                                              TXN  \\\n",
       "Price                            Close    Adj Close  Volume        Open   \n",
       "Date                                                                      \n",
       "2018-06-01 00:00:00+00:00  2128.939941  2113.727295  301500  112.550003   \n",
       "2018-06-04 00:00:00+00:00  2125.800049  2110.609863  284700  114.739998   \n",
       "2018-06-05 00:00:00+00:00  2140.989990  2125.691406  339900  116.690002   \n",
       "2018-06-06 00:00:00+00:00  2153.780029  2138.389893  297700  117.570000   \n",
       "2018-06-07 00:00:00+00:00  2131.979980  2116.745361  293800  118.349998   \n",
       "\n",
       "Ticker                                                                    \\\n",
       "Price                            High         Low       Close  Adj Close   \n",
       "Date                                                                       \n",
       "2018-06-01 00:00:00+00:00  114.800003  112.320000  114.800003  95.804886   \n",
       "2018-06-04 00:00:00+00:00  116.379997  114.309998  115.739998  96.589325   \n",
       "2018-06-05 00:00:00+00:00  117.930000  115.830002  117.660004  98.191650   \n",
       "2018-06-06 00:00:00+00:00  118.120003  116.910004  118.110001  98.567200   \n",
       "2018-06-07 00:00:00+00:00  118.480003  116.139999  117.239998  97.841133   \n",
       "\n",
       "Ticker                              \n",
       "Price                       Volume  \n",
       "Date                                \n",
       "2018-06-01 00:00:00+00:00  4728400  \n",
       "2018-06-04 00:00:00+00:00  3905700  \n",
       "2018-06-05 00:00:00+00:00  5366600  \n",
       "2018-06-06 00:00:00+00:00  4015400  \n",
       "2018-06-07 00:00:00+00:00  6985100  \n",
       "\n",
       "[5 rows x 1200 columns]"
      ]
     },
     "execution_count": 7,
     "metadata": {},
     "output_type": "execute_result"
    }
   ],
   "source": [
    "df.head()"
   ]
  },
  {
   "cell_type": "code",
   "execution_count": 9,
   "id": "afe00e21-e8b4-4a4f-a720-d4fd2615c902",
   "metadata": {},
   "outputs": [
    {
     "data": {
      "text/html": [
       "<div>\n",
       "<style scoped>\n",
       "    .dataframe tbody tr th:only-of-type {\n",
       "        vertical-align: middle;\n",
       "    }\n",
       "\n",
       "    .dataframe tbody tr th {\n",
       "        vertical-align: top;\n",
       "    }\n",
       "\n",
       "    .dataframe thead th {\n",
       "        text-align: right;\n",
       "    }\n",
       "</style>\n",
       "<table border=\"1\" class=\"dataframe\">\n",
       "  <thead>\n",
       "    <tr style=\"text-align: right;\">\n",
       "      <th>Price</th>\n",
       "      <th>Date</th>\n",
       "      <th>Ticker</th>\n",
       "      <th>Open</th>\n",
       "      <th>High</th>\n",
       "      <th>Low</th>\n",
       "      <th>Close</th>\n",
       "      <th>Adj Close</th>\n",
       "      <th>Volume</th>\n",
       "    </tr>\n",
       "  </thead>\n",
       "  <tbody>\n",
       "    <tr>\n",
       "      <th>0</th>\n",
       "      <td>2018-06-01 00:00:00+00:00</td>\n",
       "      <td>AAPL</td>\n",
       "      <td>46.997501</td>\n",
       "      <td>47.564999</td>\n",
       "      <td>46.937500</td>\n",
       "      <td>47.560001</td>\n",
       "      <td>45.159534</td>\n",
       "      <td>93770000.0</td>\n",
       "    </tr>\n",
       "    <tr>\n",
       "      <th>1</th>\n",
       "      <td>2018-06-01 00:00:00+00:00</td>\n",
       "      <td>ABBV</td>\n",
       "      <td>97.930000</td>\n",
       "      <td>99.430000</td>\n",
       "      <td>97.900002</td>\n",
       "      <td>98.050003</td>\n",
       "      <td>73.350159</td>\n",
       "      <td>14837300.0</td>\n",
       "    </tr>\n",
       "    <tr>\n",
       "      <th>2</th>\n",
       "      <td>2018-06-01 00:00:00+00:00</td>\n",
       "      <td>ABT</td>\n",
       "      <td>61.959999</td>\n",
       "      <td>62.490002</td>\n",
       "      <td>61.849998</td>\n",
       "      <td>62.410000</td>\n",
       "      <td>55.784615</td>\n",
       "      <td>3595800.0</td>\n",
       "    </tr>\n",
       "    <tr>\n",
       "      <th>3</th>\n",
       "      <td>2018-06-01 00:00:00+00:00</td>\n",
       "      <td>ACN</td>\n",
       "      <td>156.940002</td>\n",
       "      <td>159.279999</td>\n",
       "      <td>156.559998</td>\n",
       "      <td>158.889999</td>\n",
       "      <td>144.475052</td>\n",
       "      <td>1808800.0</td>\n",
       "    </tr>\n",
       "    <tr>\n",
       "      <th>4</th>\n",
       "      <td>2018-06-01 00:00:00+00:00</td>\n",
       "      <td>ADBE</td>\n",
       "      <td>250.550003</td>\n",
       "      <td>251.830002</td>\n",
       "      <td>248.850006</td>\n",
       "      <td>251.309998</td>\n",
       "      <td>251.309998</td>\n",
       "      <td>2773200.0</td>\n",
       "    </tr>\n",
       "  </tbody>\n",
       "</table>\n",
       "</div>"
      ],
      "text/plain": [
       "Price                      Date Ticker        Open        High         Low  \\\n",
       "0     2018-06-01 00:00:00+00:00   AAPL   46.997501   47.564999   46.937500   \n",
       "1     2018-06-01 00:00:00+00:00   ABBV   97.930000   99.430000   97.900002   \n",
       "2     2018-06-01 00:00:00+00:00    ABT   61.959999   62.490002   61.849998   \n",
       "3     2018-06-01 00:00:00+00:00    ACN  156.940002  159.279999  156.559998   \n",
       "4     2018-06-01 00:00:00+00:00   ADBE  250.550003  251.830002  248.850006   \n",
       "\n",
       "Price       Close   Adj Close      Volume  \n",
       "0       47.560001   45.159534  93770000.0  \n",
       "1       98.050003   73.350159  14837300.0  \n",
       "2       62.410000   55.784615   3595800.0  \n",
       "3      158.889999  144.475052   1808800.0  \n",
       "4      251.309998  251.309998   2773200.0  "
      ]
     },
     "execution_count": 9,
     "metadata": {},
     "output_type": "execute_result"
    }
   ],
   "source": [
    "# Convert the multi-index DataFrame to a single DataFrame\n",
    "df = df.stack(level=0).reset_index()\n",
    "df.head()"
   ]
  },
  {
   "cell_type": "code",
   "execution_count": 11,
   "id": "1e3867e9-19f0-4f50-9fdc-765ffa2c9b1f",
   "metadata": {},
   "outputs": [
    {
     "data": {
      "text/html": [
       "<div>\n",
       "<style scoped>\n",
       "    .dataframe tbody tr th:only-of-type {\n",
       "        vertical-align: middle;\n",
       "    }\n",
       "\n",
       "    .dataframe tbody tr th {\n",
       "        vertical-align: top;\n",
       "    }\n",
       "\n",
       "    .dataframe thead th {\n",
       "        text-align: right;\n",
       "    }\n",
       "</style>\n",
       "<table border=\"1\" class=\"dataframe\">\n",
       "  <thead>\n",
       "    <tr style=\"text-align: right;\">\n",
       "      <th></th>\n",
       "      <th>time</th>\n",
       "      <th>ticker</th>\n",
       "      <th>open</th>\n",
       "      <th>high</th>\n",
       "      <th>low</th>\n",
       "      <th>close</th>\n",
       "      <th>adjclose</th>\n",
       "      <th>volume</th>\n",
       "    </tr>\n",
       "  </thead>\n",
       "  <tbody>\n",
       "    <tr>\n",
       "      <th>0</th>\n",
       "      <td>2018-06-01 00:00:00+00:00</td>\n",
       "      <td>AAPL</td>\n",
       "      <td>46.997501</td>\n",
       "      <td>47.564999</td>\n",
       "      <td>46.937500</td>\n",
       "      <td>47.560001</td>\n",
       "      <td>45.159534</td>\n",
       "      <td>93770000.0</td>\n",
       "    </tr>\n",
       "    <tr>\n",
       "      <th>1</th>\n",
       "      <td>2018-06-01 00:00:00+00:00</td>\n",
       "      <td>ABBV</td>\n",
       "      <td>97.930000</td>\n",
       "      <td>99.430000</td>\n",
       "      <td>97.900002</td>\n",
       "      <td>98.050003</td>\n",
       "      <td>73.350159</td>\n",
       "      <td>14837300.0</td>\n",
       "    </tr>\n",
       "    <tr>\n",
       "      <th>2</th>\n",
       "      <td>2018-06-01 00:00:00+00:00</td>\n",
       "      <td>ABT</td>\n",
       "      <td>61.959999</td>\n",
       "      <td>62.490002</td>\n",
       "      <td>61.849998</td>\n",
       "      <td>62.410000</td>\n",
       "      <td>55.784615</td>\n",
       "      <td>3595800.0</td>\n",
       "    </tr>\n",
       "    <tr>\n",
       "      <th>3</th>\n",
       "      <td>2018-06-01 00:00:00+00:00</td>\n",
       "      <td>ACN</td>\n",
       "      <td>156.940002</td>\n",
       "      <td>159.279999</td>\n",
       "      <td>156.559998</td>\n",
       "      <td>158.889999</td>\n",
       "      <td>144.475052</td>\n",
       "      <td>1808800.0</td>\n",
       "    </tr>\n",
       "    <tr>\n",
       "      <th>4</th>\n",
       "      <td>2018-06-01 00:00:00+00:00</td>\n",
       "      <td>ADBE</td>\n",
       "      <td>250.550003</td>\n",
       "      <td>251.830002</td>\n",
       "      <td>248.850006</td>\n",
       "      <td>251.309998</td>\n",
       "      <td>251.309998</td>\n",
       "      <td>2773200.0</td>\n",
       "    </tr>\n",
       "  </tbody>\n",
       "</table>\n",
       "</div>"
      ],
      "text/plain": [
       "                       time ticker        open        high         low  \\\n",
       "0 2018-06-01 00:00:00+00:00   AAPL   46.997501   47.564999   46.937500   \n",
       "1 2018-06-01 00:00:00+00:00   ABBV   97.930000   99.430000   97.900002   \n",
       "2 2018-06-01 00:00:00+00:00    ABT   61.959999   62.490002   61.849998   \n",
       "3 2018-06-01 00:00:00+00:00    ACN  156.940002  159.279999  156.559998   \n",
       "4 2018-06-01 00:00:00+00:00   ADBE  250.550003  251.830002  248.850006   \n",
       "\n",
       "        close    adjclose      volume  \n",
       "0   47.560001   45.159534  93770000.0  \n",
       "1   98.050003   73.350159  14837300.0  \n",
       "2   62.410000   55.784615   3595800.0  \n",
       "3  158.889999  144.475052   1808800.0  \n",
       "4  251.309998  251.309998   2773200.0  "
      ]
     },
     "execution_count": 11,
     "metadata": {},
     "output_type": "execute_result"
    }
   ],
   "source": [
    "df.columns = ['time', 'ticker', 'open', 'high', 'low', 'close', 'adjclose', 'volume']\n",
    "df = convert_data_type(df, time_cols=['time'], float_cols=['open', 'high', 'low', 'close', 'volume'], cat_cols=['ticker'])\n",
    "df.head()"
   ]
  },
  {
   "cell_type": "code",
   "execution_count": 13,
   "id": "0a1e4345-6ca3-47e3-9feb-71099d74c410",
   "metadata": {},
   "outputs": [
    {
     "name": "stderr",
     "output_type": "stream",
     "text": [
      "C:\\Users\\selvam\\AppData\\Local\\Temp\\ipykernel_8268\\1636823115.py:3: FutureWarning: The default of observed=False is deprecated and will be changed to True in a future version of pandas. Pass observed=False to retain current behavior or observed=True to adopt the future default and silence this warning.\n",
      "  df = df.groupby('ticker').apply(lambda x: x.sort_values('time')).reset_index(drop=True)\n"
     ]
    },
    {
     "data": {
      "text/html": [
       "<div>\n",
       "<style scoped>\n",
       "    .dataframe tbody tr th:only-of-type {\n",
       "        vertical-align: middle;\n",
       "    }\n",
       "\n",
       "    .dataframe tbody tr th {\n",
       "        vertical-align: top;\n",
       "    }\n",
       "\n",
       "    .dataframe thead th {\n",
       "        text-align: right;\n",
       "    }\n",
       "</style>\n",
       "<table border=\"1\" class=\"dataframe\">\n",
       "  <thead>\n",
       "    <tr style=\"text-align: right;\">\n",
       "      <th></th>\n",
       "      <th>time</th>\n",
       "      <th>ticker</th>\n",
       "      <th>open</th>\n",
       "      <th>high</th>\n",
       "      <th>low</th>\n",
       "      <th>close</th>\n",
       "      <th>adjclose</th>\n",
       "      <th>volume</th>\n",
       "    </tr>\n",
       "  </thead>\n",
       "  <tbody>\n",
       "    <tr>\n",
       "      <th>0</th>\n",
       "      <td>2018-06-01 00:00:00+00:00</td>\n",
       "      <td>AAPL</td>\n",
       "      <td>46.997501</td>\n",
       "      <td>47.564999</td>\n",
       "      <td>46.937500</td>\n",
       "      <td>47.560001</td>\n",
       "      <td>45.159534</td>\n",
       "      <td>93770000.0</td>\n",
       "    </tr>\n",
       "    <tr>\n",
       "      <th>1</th>\n",
       "      <td>2018-06-04 00:00:00+00:00</td>\n",
       "      <td>AAPL</td>\n",
       "      <td>47.910000</td>\n",
       "      <td>48.355000</td>\n",
       "      <td>47.837502</td>\n",
       "      <td>47.957500</td>\n",
       "      <td>45.536972</td>\n",
       "      <td>105064800.0</td>\n",
       "    </tr>\n",
       "    <tr>\n",
       "      <th>2</th>\n",
       "      <td>2018-06-05 00:00:00+00:00</td>\n",
       "      <td>AAPL</td>\n",
       "      <td>48.267502</td>\n",
       "      <td>48.485001</td>\n",
       "      <td>48.090000</td>\n",
       "      <td>48.327499</td>\n",
       "      <td>45.888302</td>\n",
       "      <td>86264000.0</td>\n",
       "    </tr>\n",
       "    <tr>\n",
       "      <th>3</th>\n",
       "      <td>2018-06-06 00:00:00+00:00</td>\n",
       "      <td>AAPL</td>\n",
       "      <td>48.407501</td>\n",
       "      <td>48.520000</td>\n",
       "      <td>47.980000</td>\n",
       "      <td>48.494999</td>\n",
       "      <td>46.047340</td>\n",
       "      <td>83734400.0</td>\n",
       "    </tr>\n",
       "    <tr>\n",
       "      <th>4</th>\n",
       "      <td>2018-06-07 00:00:00+00:00</td>\n",
       "      <td>AAPL</td>\n",
       "      <td>48.535000</td>\n",
       "      <td>48.549999</td>\n",
       "      <td>48.084999</td>\n",
       "      <td>48.365002</td>\n",
       "      <td>45.923916</td>\n",
       "      <td>85388800.0</td>\n",
       "    </tr>\n",
       "  </tbody>\n",
       "</table>\n",
       "</div>"
      ],
      "text/plain": [
       "                       time ticker       open       high        low  \\\n",
       "0 2018-06-01 00:00:00+00:00   AAPL  46.997501  47.564999  46.937500   \n",
       "1 2018-06-04 00:00:00+00:00   AAPL  47.910000  48.355000  47.837502   \n",
       "2 2018-06-05 00:00:00+00:00   AAPL  48.267502  48.485001  48.090000   \n",
       "3 2018-06-06 00:00:00+00:00   AAPL  48.407501  48.520000  47.980000   \n",
       "4 2018-06-07 00:00:00+00:00   AAPL  48.535000  48.549999  48.084999   \n",
       "\n",
       "       close   adjclose       volume  \n",
       "0  47.560001  45.159534   93770000.0  \n",
       "1  47.957500  45.536972  105064800.0  \n",
       "2  48.327499  45.888302   86264000.0  \n",
       "3  48.494999  46.047340   83734400.0  \n",
       "4  48.365002  45.923916   85388800.0  "
      ]
     },
     "execution_count": 13,
     "metadata": {},
     "output_type": "execute_result"
    }
   ],
   "source": [
    "# Set the time as index and sort values by time\n",
    "df = df.set_index('time', drop=True).reset_index()\n",
    "df = df.groupby('ticker').apply(lambda x: x.sort_values('time')).reset_index(drop=True)\n",
    "df.head()"
   ]
  },
  {
   "cell_type": "code",
   "execution_count": 15,
   "id": "d9e563b7-6fea-4d98-9825-42508efc4e9d",
   "metadata": {},
   "outputs": [
    {
     "name": "stderr",
     "output_type": "stream",
     "text": [
      "C:\\Users\\selvam\\AppData\\Local\\Temp\\ipykernel_8268\\2679077299.py:2: FutureWarning: The default of observed=False is deprecated and will be changed to True in a future version of pandas. Pass observed=False to retain current behavior or observed=True to adopt the future default and silence this warning.\n",
      "  df['time_idx'] = df.groupby('ticker').cumcount()\n"
     ]
    },
    {
     "data": {
      "text/html": [
       "<div>\n",
       "<style scoped>\n",
       "    .dataframe tbody tr th:only-of-type {\n",
       "        vertical-align: middle;\n",
       "    }\n",
       "\n",
       "    .dataframe tbody tr th {\n",
       "        vertical-align: top;\n",
       "    }\n",
       "\n",
       "    .dataframe thead th {\n",
       "        text-align: right;\n",
       "    }\n",
       "</style>\n",
       "<table border=\"1\" class=\"dataframe\">\n",
       "  <thead>\n",
       "    <tr style=\"text-align: right;\">\n",
       "      <th></th>\n",
       "      <th>time</th>\n",
       "      <th>ticker</th>\n",
       "      <th>open</th>\n",
       "      <th>high</th>\n",
       "      <th>low</th>\n",
       "      <th>close</th>\n",
       "      <th>adjclose</th>\n",
       "      <th>volume</th>\n",
       "      <th>time_idx</th>\n",
       "    </tr>\n",
       "  </thead>\n",
       "  <tbody>\n",
       "    <tr>\n",
       "      <th>0</th>\n",
       "      <td>2018-06-01 00:00:00+00:00</td>\n",
       "      <td>AAPL</td>\n",
       "      <td>46.997501</td>\n",
       "      <td>47.564999</td>\n",
       "      <td>46.937500</td>\n",
       "      <td>47.560001</td>\n",
       "      <td>45.159534</td>\n",
       "      <td>93770000.0</td>\n",
       "      <td>0</td>\n",
       "    </tr>\n",
       "    <tr>\n",
       "      <th>1</th>\n",
       "      <td>2018-06-04 00:00:00+00:00</td>\n",
       "      <td>AAPL</td>\n",
       "      <td>47.910000</td>\n",
       "      <td>48.355000</td>\n",
       "      <td>47.837502</td>\n",
       "      <td>47.957500</td>\n",
       "      <td>45.536972</td>\n",
       "      <td>105064800.0</td>\n",
       "      <td>1</td>\n",
       "    </tr>\n",
       "    <tr>\n",
       "      <th>2</th>\n",
       "      <td>2018-06-05 00:00:00+00:00</td>\n",
       "      <td>AAPL</td>\n",
       "      <td>48.267502</td>\n",
       "      <td>48.485001</td>\n",
       "      <td>48.090000</td>\n",
       "      <td>48.327499</td>\n",
       "      <td>45.888302</td>\n",
       "      <td>86264000.0</td>\n",
       "      <td>2</td>\n",
       "    </tr>\n",
       "    <tr>\n",
       "      <th>3</th>\n",
       "      <td>2018-06-06 00:00:00+00:00</td>\n",
       "      <td>AAPL</td>\n",
       "      <td>48.407501</td>\n",
       "      <td>48.520000</td>\n",
       "      <td>47.980000</td>\n",
       "      <td>48.494999</td>\n",
       "      <td>46.047340</td>\n",
       "      <td>83734400.0</td>\n",
       "      <td>3</td>\n",
       "    </tr>\n",
       "    <tr>\n",
       "      <th>4</th>\n",
       "      <td>2018-06-07 00:00:00+00:00</td>\n",
       "      <td>AAPL</td>\n",
       "      <td>48.535000</td>\n",
       "      <td>48.549999</td>\n",
       "      <td>48.084999</td>\n",
       "      <td>48.365002</td>\n",
       "      <td>45.923916</td>\n",
       "      <td>85388800.0</td>\n",
       "      <td>4</td>\n",
       "    </tr>\n",
       "  </tbody>\n",
       "</table>\n",
       "</div>"
      ],
      "text/plain": [
       "                       time ticker       open       high        low  \\\n",
       "0 2018-06-01 00:00:00+00:00   AAPL  46.997501  47.564999  46.937500   \n",
       "1 2018-06-04 00:00:00+00:00   AAPL  47.910000  48.355000  47.837502   \n",
       "2 2018-06-05 00:00:00+00:00   AAPL  48.267502  48.485001  48.090000   \n",
       "3 2018-06-06 00:00:00+00:00   AAPL  48.407501  48.520000  47.980000   \n",
       "4 2018-06-07 00:00:00+00:00   AAPL  48.535000  48.549999  48.084999   \n",
       "\n",
       "       close   adjclose       volume  time_idx  \n",
       "0  47.560001  45.159534   93770000.0         0  \n",
       "1  47.957500  45.536972  105064800.0         1  \n",
       "2  48.327499  45.888302   86264000.0         2  \n",
       "3  48.494999  46.047340   83734400.0         3  \n",
       "4  48.365002  45.923916   85388800.0         4  "
      ]
     },
     "execution_count": 15,
     "metadata": {},
     "output_type": "execute_result"
    }
   ],
   "source": [
    "# Create 'time_idx' column\n",
    "df['time_idx'] = df.groupby('ticker').cumcount()\n",
    "max_prediction_length = 4\n",
    "max_encoder_length = 24\n",
    "training_cutoff = df[\"time_idx\"].max() - max_prediction_length * 2\n",
    "df.head()"
   ]
  },
  {
   "cell_type": "code",
   "execution_count": 17,
   "id": "453b9eb2-f1aa-41de-8a97-ffdff537fe4e",
   "metadata": {},
   "outputs": [],
   "source": [
    "# Create training and validation datasets\n",
    "training = TimeSeriesDataSet(\n",
    "    df[lambda x: x.time_idx <= training_cutoff],\n",
    "    time_idx=\"time_idx\",\n",
    "    target=\"close\",\n",
    "    group_ids=[\"ticker\"],\n",
    "    min_encoder_length=max_encoder_length // 2,\n",
    "    max_encoder_length=max_encoder_length,\n",
    "    min_prediction_length=1,\n",
    "    max_prediction_length=max_prediction_length,\n",
    "    static_categoricals=[\"ticker\"],\n",
    "    time_varying_known_reals=[\"time_idx\"],\n",
    "    time_varying_unknown_reals=[\"open\", \"high\", \"low\", \"close\", \"volume\"],\n",
    "    target_normalizer=GroupNormalizer(groups=[\"ticker\"], transformation=\"softplus\"),\n",
    "    add_relative_time_idx=True,\n",
    "    add_target_scales=True,\n",
    "    add_encoder_length=True,\n",
    "    allow_missing_timesteps=False,\n",
    "    randomize_length=True,\n",
    ")\n",
    "\n",
    "# Create validation and test datasets\n",
    "validation = TimeSeriesDataSet.from_dataset(training, df, predict=True, stop_randomization=True)\n",
    "test = TimeSeriesDataSet.from_dataset(training, df, predict=True, stop_randomization=True, min_encoder_length=max_encoder_length)\n"
   ]
  },
  {
   "cell_type": "code",
   "execution_count": 18,
   "id": "84c4b3a2-3311-4c56-ad18-1a97cdcba9e6",
   "metadata": {},
   "outputs": [
    {
     "name": "stderr",
     "output_type": "stream",
     "text": [
      "Seed set to 42\n"
     ]
    },
    {
     "data": {
      "text/plain": [
       "42"
      ]
     },
     "execution_count": 18,
     "metadata": {},
     "output_type": "execute_result"
    }
   ],
   "source": [
    "# Create dataloaders for model\n",
    "batch_size = 32\n",
    "train_dataloader = training.to_dataloader(train=True, batch_size=batch_size, num_workers=0)\n",
    "val_dataloader = validation.to_dataloader(train=False, batch_size=batch_size * 10, num_workers=0)\n",
    "test_dataloader = test.to_dataloader(train=False, batch_size=batch_size * 10, num_workers=0)\n",
    "# Configure network and trainer\n",
    "pl.seed_everything(42)"
   ]
  },
  {
   "cell_type": "code",
   "execution_count": 19,
   "id": "ceaade3c-4ebe-4a75-891f-5ff7ed0f046f",
   "metadata": {},
   "outputs": [
    {
     "name": "stderr",
     "output_type": "stream",
     "text": [
      "C:\\Users\\selvam\\anaconda3\\envs\\dl\\Lib\\site-packages\\lightning\\pytorch\\utilities\\parsing.py:208: Attribute 'loss' is an instance of `nn.Module` and is already saved during checkpointing. It is recommended to ignore them using `self.save_hyperparameters(ignore=['loss'])`.\n",
      "C:\\Users\\selvam\\anaconda3\\envs\\dl\\Lib\\site-packages\\lightning\\pytorch\\utilities\\parsing.py:208: Attribute 'logging_metrics' is an instance of `nn.Module` and is already saved during checkpointing. It is recommended to ignore them using `self.save_hyperparameters(ignore=['logging_metrics'])`.\n"
     ]
    }
   ],
   "source": [
    "tft = TemporalFusionTransformer.from_dataset(\n",
    "    training,\n",
    "    learning_rate=0.03,\n",
    "    hidden_size=32,\n",
    "    attention_head_size=5,\n",
    "    dropout=0.1,\n",
    "    hidden_continuous_size=32,\n",
    "    loss=QuantileLoss(),\n",
    "    optimizer=\"adam\"\n",
    ")"
   ]
  },
  {
   "cell_type": "code",
   "execution_count": 23,
   "id": "705e5c45-91f7-4f36-8860-13ac35d2e649",
   "metadata": {},
   "outputs": [],
   "source": [
    "# Configure callbacks\n",
    "early_stop_callback = EarlyStopping(monitor=\"val_loss\", min_delta=1e-4, patience=10, verbose=False, mode=\"min\")\n",
    "lr_logger = LearningRateMonitor()\n",
    "logger = TensorBoardLogger(\"lightning_logs\")"
   ]
  },
  {
   "cell_type": "code",
   "execution_count": 25,
   "id": "482dc689-c13f-40cc-ae92-b7a190b84f03",
   "metadata": {},
   "outputs": [
    {
     "name": "stderr",
     "output_type": "stream",
     "text": [
      "GPU available: False, used: False\n",
      "TPU available: False, using: 0 TPU cores\n",
      "HPU available: False, using: 0 HPUs\n"
     ]
    }
   ],
   "source": [
    "# Train the model\n",
    "trainer = pl.Trainer(\n",
    "    max_epochs=50,\n",
    "    accelerator=\"cpu\",\n",
    "    enable_model_summary=True,\n",
    "    gradient_clip_val=0.1,\n",
    "    limit_train_batches=50,\n",
    "    callbacks=[lr_logger, early_stop_callback],\n",
    "    logger=logger,\n",
    ")"
   ]
  },
  {
   "cell_type": "code",
   "execution_count": 27,
   "id": "b8b6cbe0-ab84-4be9-afc1-ba55a598096d",
   "metadata": {},
   "outputs": [
    {
     "name": "stderr",
     "output_type": "stream",
     "text": [
      "\n",
      "   | Name                               | Type                            | Params | Mode \n",
      "------------------------------------------------------------------------------------------------\n",
      "0  | loss                               | QuantileLoss                    | 0      | train\n",
      "1  | logging_metrics                    | ModuleList                      | 0      | train\n",
      "2  | input_embeddings                   | MultiEmbedding                  | 6.2 K  | train\n",
      "3  | prescalers                         | ModuleDict                      | 640    | train\n",
      "4  | static_variable_selection          | VariableSelectionNetwork        | 13.7 K | train\n",
      "5  | encoder_variable_selection         | VariableSelectionNetwork        | 32.5 K | train\n",
      "6  | decoder_variable_selection         | VariableSelectionNetwork        | 8.9 K  | train\n",
      "7  | static_context_variable_selection  | GatedResidualNetwork            | 4.3 K  | train\n",
      "8  | static_context_initial_hidden_lstm | GatedResidualNetwork            | 4.3 K  | train\n",
      "9  | static_context_initial_cell_lstm   | GatedResidualNetwork            | 4.3 K  | train\n",
      "10 | static_context_enrichment          | GatedResidualNetwork            | 4.3 K  | train\n",
      "11 | lstm_encoder                       | LSTM                            | 8.4 K  | train\n",
      "12 | lstm_decoder                       | LSTM                            | 8.4 K  | train\n",
      "13 | post_lstm_gate_encoder             | GatedLinearUnit                 | 2.1 K  | train\n",
      "14 | post_lstm_add_norm_encoder         | AddNorm                         | 64     | train\n",
      "15 | static_enrichment                  | GatedResidualNetwork            | 5.3 K  | train\n",
      "16 | multihead_attn                     | InterpretableMultiHeadAttention | 2.4 K  | train\n",
      "17 | post_attn_gate_norm                | GateAddNorm                     | 2.2 K  | train\n",
      "18 | pos_wise_ff                        | GatedResidualNetwork            | 4.3 K  | train\n",
      "19 | pre_output_gate_norm               | GateAddNorm                     | 2.2 K  | train\n",
      "20 | output_layer                       | Linear                          | 231    | train\n",
      "------------------------------------------------------------------------------------------------\n",
      "113 K     Trainable params\n",
      "0         Non-trainable params\n",
      "113 K     Total params\n",
      "0.456     Total estimated model params size (MB)\n",
      "298       Modules in train mode\n",
      "0         Modules in eval mode\n"
     ]
    },
    {
     "data": {
      "application/vnd.jupyter.widget-view+json": {
       "model_id": "",
       "version_major": 2,
       "version_minor": 0
      },
      "text/plain": [
       "Sanity Checking: |                                                                               | 0/? [00:00<…"
      ]
     },
     "metadata": {},
     "output_type": "display_data"
    },
    {
     "name": "stderr",
     "output_type": "stream",
     "text": [
      "C:\\Users\\selvam\\anaconda3\\envs\\dl\\Lib\\site-packages\\lightning\\pytorch\\trainer\\connectors\\data_connector.py:424: The 'val_dataloader' does not have many workers which may be a bottleneck. Consider increasing the value of the `num_workers` argument` to `num_workers=7` in the `DataLoader` to improve performance.\n",
      "C:\\Users\\selvam\\anaconda3\\envs\\dl\\Lib\\site-packages\\lightning\\pytorch\\trainer\\connectors\\data_connector.py:424: The 'train_dataloader' does not have many workers which may be a bottleneck. Consider increasing the value of the `num_workers` argument` to `num_workers=7` in the `DataLoader` to improve performance.\n"
     ]
    },
    {
     "data": {
      "application/vnd.jupyter.widget-view+json": {
       "model_id": "e7749b620b454257a0aba7c1cca17c47",
       "version_major": 2,
       "version_minor": 0
      },
      "text/plain": [
       "Training: |                                                                                      | 0/? [00:00<…"
      ]
     },
     "metadata": {},
     "output_type": "display_data"
    },
    {
     "data": {
      "application/vnd.jupyter.widget-view+json": {
       "model_id": "",
       "version_major": 2,
       "version_minor": 0
      },
      "text/plain": [
       "Validation: |                                                                                    | 0/? [00:00<…"
      ]
     },
     "metadata": {},
     "output_type": "display_data"
    },
    {
     "data": {
      "application/vnd.jupyter.widget-view+json": {
       "model_id": "",
       "version_major": 2,
       "version_minor": 0
      },
      "text/plain": [
       "Validation: |                                                                                    | 0/? [00:00<…"
      ]
     },
     "metadata": {},
     "output_type": "display_data"
    },
    {
     "data": {
      "application/vnd.jupyter.widget-view+json": {
       "model_id": "",
       "version_major": 2,
       "version_minor": 0
      },
      "text/plain": [
       "Validation: |                                                                                    | 0/? [00:00<…"
      ]
     },
     "metadata": {},
     "output_type": "display_data"
    },
    {
     "data": {
      "application/vnd.jupyter.widget-view+json": {
       "model_id": "",
       "version_major": 2,
       "version_minor": 0
      },
      "text/plain": [
       "Validation: |                                                                                    | 0/? [00:00<…"
      ]
     },
     "metadata": {},
     "output_type": "display_data"
    },
    {
     "data": {
      "application/vnd.jupyter.widget-view+json": {
       "model_id": "",
       "version_major": 2,
       "version_minor": 0
      },
      "text/plain": [
       "Validation: |                                                                                    | 0/? [00:00<…"
      ]
     },
     "metadata": {},
     "output_type": "display_data"
    },
    {
     "data": {
      "application/vnd.jupyter.widget-view+json": {
       "model_id": "",
       "version_major": 2,
       "version_minor": 0
      },
      "text/plain": [
       "Validation: |                                                                                    | 0/? [00:00<…"
      ]
     },
     "metadata": {},
     "output_type": "display_data"
    },
    {
     "data": {
      "application/vnd.jupyter.widget-view+json": {
       "model_id": "",
       "version_major": 2,
       "version_minor": 0
      },
      "text/plain": [
       "Validation: |                                                                                    | 0/? [00:00<…"
      ]
     },
     "metadata": {},
     "output_type": "display_data"
    },
    {
     "data": {
      "application/vnd.jupyter.widget-view+json": {
       "model_id": "",
       "version_major": 2,
       "version_minor": 0
      },
      "text/plain": [
       "Validation: |                                                                                    | 0/? [00:00<…"
      ]
     },
     "metadata": {},
     "output_type": "display_data"
    },
    {
     "data": {
      "application/vnd.jupyter.widget-view+json": {
       "model_id": "",
       "version_major": 2,
       "version_minor": 0
      },
      "text/plain": [
       "Validation: |                                                                                    | 0/? [00:00<…"
      ]
     },
     "metadata": {},
     "output_type": "display_data"
    },
    {
     "data": {
      "application/vnd.jupyter.widget-view+json": {
       "model_id": "",
       "version_major": 2,
       "version_minor": 0
      },
      "text/plain": [
       "Validation: |                                                                                    | 0/? [00:00<…"
      ]
     },
     "metadata": {},
     "output_type": "display_data"
    },
    {
     "data": {
      "application/vnd.jupyter.widget-view+json": {
       "model_id": "",
       "version_major": 2,
       "version_minor": 0
      },
      "text/plain": [
       "Validation: |                                                                                    | 0/? [00:00<…"
      ]
     },
     "metadata": {},
     "output_type": "display_data"
    },
    {
     "data": {
      "application/vnd.jupyter.widget-view+json": {
       "model_id": "",
       "version_major": 2,
       "version_minor": 0
      },
      "text/plain": [
       "Validation: |                                                                                    | 0/? [00:00<…"
      ]
     },
     "metadata": {},
     "output_type": "display_data"
    },
    {
     "data": {
      "application/vnd.jupyter.widget-view+json": {
       "model_id": "",
       "version_major": 2,
       "version_minor": 0
      },
      "text/plain": [
       "Validation: |                                                                                    | 0/? [00:00<…"
      ]
     },
     "metadata": {},
     "output_type": "display_data"
    },
    {
     "data": {
      "application/vnd.jupyter.widget-view+json": {
       "model_id": "",
       "version_major": 2,
       "version_minor": 0
      },
      "text/plain": [
       "Validation: |                                                                                    | 0/? [00:00<…"
      ]
     },
     "metadata": {},
     "output_type": "display_data"
    },
    {
     "data": {
      "application/vnd.jupyter.widget-view+json": {
       "model_id": "",
       "version_major": 2,
       "version_minor": 0
      },
      "text/plain": [
       "Validation: |                                                                                    | 0/? [00:00<…"
      ]
     },
     "metadata": {},
     "output_type": "display_data"
    },
    {
     "data": {
      "application/vnd.jupyter.widget-view+json": {
       "model_id": "",
       "version_major": 2,
       "version_minor": 0
      },
      "text/plain": [
       "Validation: |                                                                                    | 0/? [00:00<…"
      ]
     },
     "metadata": {},
     "output_type": "display_data"
    },
    {
     "data": {
      "application/vnd.jupyter.widget-view+json": {
       "model_id": "",
       "version_major": 2,
       "version_minor": 0
      },
      "text/plain": [
       "Validation: |                                                                                    | 0/? [00:00<…"
      ]
     },
     "metadata": {},
     "output_type": "display_data"
    },
    {
     "data": {
      "application/vnd.jupyter.widget-view+json": {
       "model_id": "",
       "version_major": 2,
       "version_minor": 0
      },
      "text/plain": [
       "Validation: |                                                                                    | 0/? [00:00<…"
      ]
     },
     "metadata": {},
     "output_type": "display_data"
    },
    {
     "data": {
      "application/vnd.jupyter.widget-view+json": {
       "model_id": "",
       "version_major": 2,
       "version_minor": 0
      },
      "text/plain": [
       "Validation: |                                                                                    | 0/? [00:00<…"
      ]
     },
     "metadata": {},
     "output_type": "display_data"
    },
    {
     "data": {
      "application/vnd.jupyter.widget-view+json": {
       "model_id": "",
       "version_major": 2,
       "version_minor": 0
      },
      "text/plain": [
       "Validation: |                                                                                    | 0/? [00:00<…"
      ]
     },
     "metadata": {},
     "output_type": "display_data"
    },
    {
     "data": {
      "application/vnd.jupyter.widget-view+json": {
       "model_id": "",
       "version_major": 2,
       "version_minor": 0
      },
      "text/plain": [
       "Validation: |                                                                                    | 0/? [00:00<…"
      ]
     },
     "metadata": {},
     "output_type": "display_data"
    },
    {
     "data": {
      "application/vnd.jupyter.widget-view+json": {
       "model_id": "",
       "version_major": 2,
       "version_minor": 0
      },
      "text/plain": [
       "Validation: |                                                                                    | 0/? [00:00<…"
      ]
     },
     "metadata": {},
     "output_type": "display_data"
    },
    {
     "data": {
      "application/vnd.jupyter.widget-view+json": {
       "model_id": "",
       "version_major": 2,
       "version_minor": 0
      },
      "text/plain": [
       "Validation: |                                                                                    | 0/? [00:00<…"
      ]
     },
     "metadata": {},
     "output_type": "display_data"
    },
    {
     "data": {
      "application/vnd.jupyter.widget-view+json": {
       "model_id": "",
       "version_major": 2,
       "version_minor": 0
      },
      "text/plain": [
       "Validation: |                                                                                    | 0/? [00:00<…"
      ]
     },
     "metadata": {},
     "output_type": "display_data"
    },
    {
     "data": {
      "application/vnd.jupyter.widget-view+json": {
       "model_id": "",
       "version_major": 2,
       "version_minor": 0
      },
      "text/plain": [
       "Validation: |                                                                                    | 0/? [00:00<…"
      ]
     },
     "metadata": {},
     "output_type": "display_data"
    },
    {
     "data": {
      "application/vnd.jupyter.widget-view+json": {
       "model_id": "",
       "version_major": 2,
       "version_minor": 0
      },
      "text/plain": [
       "Validation: |                                                                                    | 0/? [00:00<…"
      ]
     },
     "metadata": {},
     "output_type": "display_data"
    },
    {
     "data": {
      "application/vnd.jupyter.widget-view+json": {
       "model_id": "",
       "version_major": 2,
       "version_minor": 0
      },
      "text/plain": [
       "Validation: |                                                                                    | 0/? [00:00<…"
      ]
     },
     "metadata": {},
     "output_type": "display_data"
    },
    {
     "data": {
      "application/vnd.jupyter.widget-view+json": {
       "model_id": "",
       "version_major": 2,
       "version_minor": 0
      },
      "text/plain": [
       "Validation: |                                                                                    | 0/? [00:00<…"
      ]
     },
     "metadata": {},
     "output_type": "display_data"
    },
    {
     "data": {
      "application/vnd.jupyter.widget-view+json": {
       "model_id": "",
       "version_major": 2,
       "version_minor": 0
      },
      "text/plain": [
       "Validation: |                                                                                    | 0/? [00:00<…"
      ]
     },
     "metadata": {},
     "output_type": "display_data"
    },
    {
     "data": {
      "application/vnd.jupyter.widget-view+json": {
       "model_id": "",
       "version_major": 2,
       "version_minor": 0
      },
      "text/plain": [
       "Validation: |                                                                                    | 0/? [00:00<…"
      ]
     },
     "metadata": {},
     "output_type": "display_data"
    },
    {
     "data": {
      "application/vnd.jupyter.widget-view+json": {
       "model_id": "",
       "version_major": 2,
       "version_minor": 0
      },
      "text/plain": [
       "Validation: |                                                                                    | 0/? [00:00<…"
      ]
     },
     "metadata": {},
     "output_type": "display_data"
    },
    {
     "data": {
      "application/vnd.jupyter.widget-view+json": {
       "model_id": "",
       "version_major": 2,
       "version_minor": 0
      },
      "text/plain": [
       "Validation: |                                                                                    | 0/? [00:00<…"
      ]
     },
     "metadata": {},
     "output_type": "display_data"
    }
   ],
   "source": [
    "\n",
    "trainer.fit(\n",
    "    tft,\n",
    "    train_dataloaders=train_dataloader,\n",
    "    val_dataloaders=val_dataloader,\n",
    ")"
   ]
  },
  {
   "cell_type": "code",
   "execution_count": 29,
   "id": "2dd04dee-b8d0-4fee-9bf5-9aae7bb5ea9a",
   "metadata": {},
   "outputs": [
    {
     "name": "stderr",
     "output_type": "stream",
     "text": [
      "GPU available: False, used: False\n",
      "TPU available: False, using: 0 TPU cores\n",
      "HPU available: False, using: 0 HPUs\n",
      "C:\\Users\\selvam\\anaconda3\\envs\\dl\\Lib\\site-packages\\lightning\\pytorch\\trainer\\connectors\\data_connector.py:424: The 'predict_dataloader' does not have many workers which may be a bottleneck. Consider increasing the value of the `num_workers` argument` to `num_workers=7` in the `DataLoader` to improve performance.\n"
     ]
    },
    {
     "name": "stdout",
     "output_type": "stream",
     "text": [
      "Test MAE: 29.96747398376465\n"
     ]
    }
   ],
   "source": [
    "# Calculate accuracy on the test set (using MAE)\n",
    "predictions = tft.predict(test_dataloader, return_y=True)  # returns an object containing both predictions and actuals\n",
    "preds, actuals = predictions.output, predictions.y\n",
    "\n",
    "# Calculate MAE\n",
    "mae = MAE()(preds, actuals)\n",
    "print(f\"Test MAE: {mae}\")"
   ]
  },
  {
   "cell_type": "code",
   "execution_count": null,
   "id": "2d48766e-2ad0-4bda-ae4a-2c3fe506b105",
   "metadata": {},
   "outputs": [],
   "source": []
  },
  {
   "cell_type": "code",
   "execution_count": null,
   "id": "a43f6736-a9ec-4036-86d7-82f333549ebc",
   "metadata": {},
   "outputs": [],
   "source": []
  },
  {
   "cell_type": "code",
   "execution_count": null,
   "id": "0b6d5d59-8c36-45fd-8175-a9abdafe07e2",
   "metadata": {},
   "outputs": [],
   "source": []
  },
  {
   "cell_type": "code",
   "execution_count": null,
   "id": "019fed63-934b-460d-8195-91c8dfa5a4d1",
   "metadata": {},
   "outputs": [],
   "source": []
  },
  {
   "cell_type": "code",
   "execution_count": null,
   "id": "26f3a486-d4bf-4b07-b94a-ef185c2bba97",
   "metadata": {},
   "outputs": [],
   "source": []
  },
  {
   "cell_type": "code",
   "execution_count": null,
   "id": "46d45dce-7cc3-4e70-baf3-09b838ed7000",
   "metadata": {},
   "outputs": [],
   "source": []
  },
  {
   "cell_type": "code",
   "execution_count": null,
   "id": "97cb6256-2842-41d7-ba19-3d657839f1fb",
   "metadata": {},
   "outputs": [],
   "source": []
  },
  {
   "cell_type": "code",
   "execution_count": null,
   "id": "f83ca3d7-760b-499f-8a4d-6e7d985c8be6",
   "metadata": {},
   "outputs": [],
   "source": []
  },
  {
   "cell_type": "code",
   "execution_count": null,
   "id": "2d2d3b7f-0e63-4a5a-9467-5293eb2448e3",
   "metadata": {},
   "outputs": [],
   "source": []
  },
  {
   "cell_type": "code",
   "execution_count": null,
   "id": "8d881801-3d09-4582-a1f8-d68afece2480",
   "metadata": {},
   "outputs": [],
   "source": []
  },
  {
   "cell_type": "code",
   "execution_count": null,
   "id": "e4fd4abd-1490-493d-9cc6-5c6bba2b74d0",
   "metadata": {},
   "outputs": [],
   "source": []
  },
  {
   "cell_type": "code",
   "execution_count": null,
   "id": "8aebd0f2-442d-445d-95ec-90d75a78457c",
   "metadata": {},
   "outputs": [],
   "source": []
  }
 ],
 "metadata": {
  "kernelspec": {
   "display_name": "dl",
   "language": "python",
   "name": "dl"
  },
  "language_info": {
   "codemirror_mode": {
    "name": "ipython",
    "version": 3
   },
   "file_extension": ".py",
   "mimetype": "text/x-python",
   "name": "python",
   "nbconvert_exporter": "python",
   "pygments_lexer": "ipython3",
   "version": "3.12.7"
  }
 },
 "nbformat": 4,
 "nbformat_minor": 5
}
